{
 "cells": [
  {
   "cell_type": "markdown",
   "metadata": {},
   "source": [
    "# Metodo Sparse General"
   ]
  },
  {
   "cell_type": "code",
   "execution_count": 1,
   "metadata": {},
   "outputs": [],
   "source": [
    "# Cargar herramientas para manejo de video\n",
    "from video_tools import load_video, save_demo_video\n",
    "import numpy as np\n",
    "import matplotlib.pyplot as plt\n",
    "%matplotlib inline"
   ]
  },
  {
   "cell_type": "code",
   "execution_count": null,
   "metadata": {},
   "outputs": [],
   "source": [
    "D = load_video('mano gris.avi')"
   ]
  },
  {
   "cell_type": "code",
   "execution_count": null,
   "metadata": {},
   "outputs": [],
   "source": [
    "def augmented_lagrangian(L, S, Y, mu, lamb, D):\n",
    "    nuc = np.linalg.norm(L, ord='nuc')\n",
    "    l1 = np.linalg.norm(S.flatten(), ord=1)\n",
    "    tmp = D - L - S\n",
    "    frob = np.linalg.norm(tmp, ord='fro')\n",
    "    return nuc + lamb * l1 + np.sum(Y * tmp) + 0.5 * mu * frob ** 2\n",
    "\n",
    "\n",
    "def J(Y, lamb):\n",
    "    return max(np.linalg.norm(Y), 1/lamb * np.linalg.norm(Y))\n",
    "\n",
    "\n",
    "def soft_threshold(X, eps):\n",
    "    out = np.zeros(X.shape)\n",
    "    out[X > eps] = X[X > eps] - eps\n",
    "    out[X < -eps] = X[X < -eps] + eps\n",
    "    return out\n",
    "\n",
    "\n",
    "def video_segmentation(D, max_iter=500, mu_0=0.001, lamb=0.01):\n",
    "    Y_k = D / J(D, lamb)\n",
    "    S_k = D - Y_k\n",
    "    #S_k = np.zeros(D.shape)\n",
    "\n",
    "    err = [] \n",
    "    for i in range(1, max_iter):\n",
    "        mu_k = mu_0 * i  # mu_i crece de forma lineal\n",
    "\n",
    "        print(\"Iteracion {}\".format(i))\n",
    "        # Resolver L_{k+1} = argmin_L L(L, S_k, Y_k, mu_k)\n",
    "        U, S, V = np.linalg.svd(D - S_k + (1 / mu_k) * Y_k, full_matrices=False)\n",
    "        S_shrink = soft_threshold(S, (1 / mu_k))\n",
    "        L_k = np.dot(U * S_shrink, V)\n",
    "\n",
    "        # Resolver S_{k+1} = argmin_S L(L_k, S, Y_k, mu_k)\n",
    "        S_k = soft_threshold(D - L_k + (1 / mu_k) * Y_k , lamb / mu_k)\n",
    "\n",
    "        # Paso en valor del dual\n",
    "        Y_k += mu_k * (D - L_k - S_k)\n",
    "        print(augmented_lagrangian(L=L_k, S=S_k, lamb=lamb, mu=mu_k, Y=Y_k, D=D))\n",
    "\n",
    "        err.append(np.linalg.norm(D - L_k - S_k, ord='fro') / np.linalg.norm(D, ord='fro'))\n",
    "        #if err[-1] < 1e-10:\n",
    "        #    print('Method converged in iteration {}'.format(i))\n",
    "        #    break\n",
    "\n",
    "\n",
    "    L = L_k.copy()\n",
    "    S = S_k.copy()\n",
    "    \n",
    "    return L, S, err"
   ]
  },
  {
   "cell_type": "code",
   "execution_count": null,
   "metadata": {
    "scrolled": true
   },
   "outputs": [],
   "source": [
    "L, S, err = video_segmentation(D, max_iter=500, mu_0=.001, lamb=0.01)"
   ]
  },
  {
   "cell_type": "markdown",
   "metadata": {},
   "source": [
    "# Plot error\n",
    "\n",
    "El criterio de convergencia del Liu no aplica porque la igualdad $L+S=D$ se cumple desde muy temprano en el algoritmo"
   ]
  },
  {
   "cell_type": "code",
   "execution_count": null,
   "metadata": {},
   "outputs": [],
   "source": [
    "plt.loglog(err)\n",
    "plt.title('Error relativo en norma Frobenius (Liu)')"
   ]
  },
  {
   "cell_type": "markdown",
   "metadata": {},
   "source": [
    "# Ejemplos de frames del resultado"
   ]
  },
  {
   "cell_type": "code",
   "execution_count": null,
   "metadata": {},
   "outputs": [],
   "source": [
    "%matplotlib inline\n",
    "import matplotlib.pyplot as plt\n",
    "\n",
    "plt.subplot('221')\n",
    "plt.title('Low rank')\n",
    "plt.imshow(L[:, 0].reshape(100,100), cmap='gray')\n",
    "\n",
    "plt.subplot('222')\n",
    "plt.title('Sparse')\n",
    "plt.imshow(S[:, 0].reshape(100,100), cmap='gray')\n",
    "\n",
    "plt.subplot('223')\n",
    "plt.title('Low rank')\n",
    "plt.imshow(L[:, 50].reshape(100,100), cmap='gray')\n",
    "\n",
    "plt.subplot('224')\n",
    "plt.title('Sparse')\n",
    "plt.imshow(S[:, 50].reshape(100,100), cmap='gray')"
   ]
  },
  {
   "cell_type": "markdown",
   "metadata": {},
   "source": [
    "# Save Video"
   ]
  },
  {
   "cell_type": "code",
   "execution_count": null,
   "metadata": {},
   "outputs": [],
   "source": [
    "import cv2\n",
    "import numpy as np\n",
    "\n",
    "save_demo_video('demo_mano.avi', D, L, S)"
   ]
  },
  {
   "cell_type": "code",
   "execution_count": null,
   "metadata": {},
   "outputs": [],
   "source": []
  },
  {
   "cell_type": "code",
   "execution_count": null,
   "metadata": {},
   "outputs": [],
   "source": []
  }
 ],
 "metadata": {
  "kernelspec": {
   "display_name": "Python 3",
   "language": "python",
   "name": "python3"
  },
  "language_info": {
   "codemirror_mode": {
    "name": "ipython",
    "version": 3
   },
   "file_extension": ".py",
   "mimetype": "text/x-python",
   "name": "python",
   "nbconvert_exporter": "python",
   "pygments_lexer": "ipython3",
   "version": "3.6.4"
  }
 },
 "nbformat": 4,
 "nbformat_minor": 2
}
