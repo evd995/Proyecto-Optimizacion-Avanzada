{
 "cells": [
  {
   "cell_type": "markdown",
   "metadata": {},
   "source": [
    "# Test OpenCV Video\n",
    "\n",
    "`pip install opencv-python`\n",
    "\n",
    "`pip install numpy`\n",
    "\n",
    "Se hará un demo para probar OpenCV en el que se creará y guardará un video simple en el que un cuadrado blanco se mueva en un fondo gris. Este mismo video luego se usará para testear de forma rápida métodos de segmentación de fondo. Por ahora se limitará a cargar el video como una matriz (cada columna representando un frame) y se calcularán las normas nucleares y de frobenius."
   ]
  },
  {
   "cell_type": "markdown",
   "metadata": {},
   "source": [
    "## Crear Video"
   ]
  },
  {
   "cell_type": "code",
   "execution_count": 30,
   "metadata": {},
   "outputs": [
    {
     "name": "stdout",
     "output_type": "stream",
     "text": [
      "Creating Video\n",
      "Releasing Video\n"
     ]
    }
   ],
   "source": [
    "import cv2\n",
    "import numpy as np\n",
    "\n",
    "fourcc = cv2.VideoWriter_fourcc(*'XVID')\n",
    "out = cv2.VideoWriter('test.avi', fourcc, 20.0, (100,100))\n",
    "\n",
    "try:\n",
    "    print('Creating Video')\n",
    "    for i in range(91):\n",
    "        new = np.zeros((100,100)) + 50\n",
    "        new[50:60, i:i+10] = 255\n",
    "        new = new.astype(np.uint8)\n",
    "        new = cv2.cvtColor(new, cv2.COLOR_GRAY2BGR)\n",
    "        out.write(new)\n",
    "    \n",
    "finally:\n",
    "    print('Releasing Video')\n",
    "    out.release()"
   ]
  },
  {
   "cell_type": "markdown",
   "metadata": {},
   "source": [
    "## Obtener datos del video como matriz\n",
    "\n",
    "Se cargará el video creado en la parte anterior como si fuese una matriz (es decir, cada columna representa un frame) y se extraerá información de esta. Particularmente, se extraerá la norma nuclear y de frobenius.\n",
    "\n",
    "Se asume que el procesamiento se hará en escala de grises"
   ]
  },
  {
   "cell_type": "code",
   "execution_count": 96,
   "metadata": {},
   "outputs": [],
   "source": [
    "import cv2\n",
    "import numpy as np\n",
    "\n",
    "def load_video(path):\n",
    "    video = cv2.VideoCapture(path)\n",
    "\n",
    "    M = None # Video como matriz\n",
    "\n",
    "    try: \n",
    "        while video.isOpened():\n",
    "            ret, frame = video.read()\n",
    "            \n",
    "            if ret:\n",
    "                frame = cv2.cvtColor(frame, cv2.COLOR_BGR2GRAY)\n",
    "                if M is None:\n",
    "                    M = frame.flatten()\n",
    "                else:\n",
    "                    M = np.column_stack((M, frame.flatten()))\n",
    "            else:\n",
    "                break\n",
    "    finally:\n",
    "        video.release()\n",
    "    \n",
    "    return M"
   ]
  },
  {
   "cell_type": "code",
   "execution_count": 97,
   "metadata": {},
   "outputs": [],
   "source": [
    "M = load_video('test.avi')"
   ]
  },
  {
   "cell_type": "code",
   "execution_count": 98,
   "metadata": {},
   "outputs": [
    {
     "data": {
      "text/plain": [
       "156495.37021996052"
      ]
     },
     "execution_count": 98,
     "metadata": {},
     "output_type": "execute_result"
    }
   ],
   "source": [
    "# Norma nuclear\n",
    "np.linalg.norm(M, ord='nuc')"
   ]
  },
  {
   "cell_type": "code",
   "execution_count": 99,
   "metadata": {},
   "outputs": [
    {
     "data": {
      "text/plain": [
       "50695.531055508232"
      ]
     },
     "execution_count": 99,
     "metadata": {},
     "output_type": "execute_result"
    }
   ],
   "source": [
    "# Norma de Frobenius\n",
    "np.linalg.norm(M, ord='fro')"
   ]
  },
  {
   "cell_type": "markdown",
   "metadata": {},
   "source": [
    "### Visualizacion de los frames\n",
    "\n",
    "Frame 0:"
   ]
  },
  {
   "cell_type": "code",
   "execution_count": 104,
   "metadata": {},
   "outputs": [
    {
     "data": {
      "text/plain": [
       "<matplotlib.image.AxesImage at 0x18d0e9817b8>"
      ]
     },
     "execution_count": 104,
     "metadata": {},
     "output_type": "execute_result"
    },
    {
     "data": {
      "image/png": "[encoded data removed]",
      "text/plain": [
       "<matplotlib.figure.Figure at 0x18d0e4e37f0>"
      ]
     },
     "metadata": {},
     "output_type": "display_data"
    }
   ],
   "source": [
    "plt.imshow(M[:, 0].reshape(100,100), cmap='gray')"
   ]
  },
  {
   "cell_type": "markdown",
   "metadata": {},
   "source": [
    "Frame 50:"
   ]
  },
  {
   "cell_type": "code",
   "execution_count": 105,
   "metadata": {},
   "outputs": [
    {
     "data": {
      "text/plain": [
       "<matplotlib.image.AxesImage at 0x18d0f325860>"
      ]
     },
     "execution_count": 105,
     "metadata": {},
     "output_type": "execute_result"
    },
    {
     "data": {
      "image/png": "[encoded data removed]",
      "text/plain": [
       "<matplotlib.figure.Figure at 0x18d0e6c3da0>"
      ]
     },
     "metadata": {},
     "output_type": "display_data"
    }
   ],
   "source": [
    "plt.imshow(M[:, 50].reshape(100,100), cmap='gray')"
   ]
  },
  {
   "cell_type": "code",
   "execution_count": null,
   "metadata": {},
   "outputs": [],
   "source": []
  }
 ],
 "metadata": {
  "kernelspec": {
   "display_name": "Python 3",
   "language": "python",
   "name": "python3"
  },
  "language_info": {
   "codemirror_mode": {
    "name": "ipython",
    "version": 3
   },
   "file_extension": ".py",
   "mimetype": "text/x-python",
   "name": "python",
   "nbconvert_exporter": "python",
   "pygments_lexer": "ipython3",
   "version": "3.6.4"
  }
 },
 "nbformat": 4,
 "nbformat_minor": 2
}
