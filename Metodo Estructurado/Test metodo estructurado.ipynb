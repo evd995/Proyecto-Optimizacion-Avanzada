{
 "cells": [
  {
   "cell_type": "code",
   "execution_count": 3,
   "metadata": {},
   "outputs": [],
   "source": [
    "from video_tools import load_video\n",
    "import numpy as np\n",
    "import spams"
   ]
  },
  {
   "cell_type": "code",
   "execution_count": 43,
   "metadata": {},
   "outputs": [],
   "source": [
    "def Omega(M, video_size=(100,100)):\n",
    "    \"\"\"\n",
    "    Valor de la norma Omega de la matriz D. los valores de frame_size se usan\n",
    "    para calcular los indices g que necesita la norma\n",
    "    \"\"\"\n",
    "    video = M.reshape((frame_size[0], frame_size[1], M.shape[1]))\n",
    "    \n",
    "    z = np.zeros(M.shape[1])\n",
    "    for i in range(1, frame_size[0] - 1): \n",
    "        for j in range(1, frame_size[1] - 1): \n",
    "            window = video[i-1:i+2, j-1:j+2, :]\n",
    "            vec_window = window.reshape(9, window.shape[2])\n",
    "            z+= np.max(vec_window, axis=0)\n",
    "    \n",
    "    omega = np.sum(z)\n",
    "    \n",
    "    return omega\n",
    "\n",
    "def get_groups(video_size):\n",
    "    out = None\n",
    "\n",
    "    for i in range(1, video_size[0] - 1): \n",
    "        for j in range(1, video_size[1] - 1): \n",
    "            window = np.zeros(video_size)\n",
    "            window[i-1:i+2, j-1:j+2] += 1\n",
    "\n",
    "            if out is None:\n",
    "                out = window.flatten()\n",
    "            else:\n",
    "                out = np.column_stack((out, window.flatten()))\n",
    "    \n",
    "    return out\n",
    "\n",
    "def augmented_lagrangian(L, S, Y, mu, lamb, D):\n",
    "    nuc = np.linalg.norm(L, ord='nuc')\n",
    "    omega = Omega(S)\n",
    "    tmp = D - L - S\n",
    "    frob = np.linalg.norm(tmp, ord='fro')\n",
    "    return nuc + lamb * omega + np.sum(Y * tmp) + 0.5 * mu * frob ** 2\n",
    "\n",
    "def J(Y, lamb):\n",
    "    #if not scipy.sparse.issparse(Y):\n",
    "    #    Y = scipy.sparse.csc_matrix(Y)\n",
    "    Y_norm = np.linalg.norm(Y)\n",
    "    return max(Y_norm, 1/lamb * Y_norm)\n",
    "\n",
    "\n",
    "def soft_threshold(X, eps):\n",
    "    out = np.zeros(X.shape)\n",
    "    out[X > eps] = X[X > eps] - eps\n",
    "    out[X < -eps] = X[X < -eps] + eps\n",
    "    return out\n",
    "\n",
    "\n",
    "def video_segmentation(D, video_size, max_iter=500, mu_0=0.001, lamb=0.01):\n",
    "    Y_k = D / J(D, lamb)\n",
    "    S_k = np.zeros(D.shape)\n",
    "    #S_k = D - Y_k\n",
    "    \n",
    "    groups = get_groups(video_size)\n",
    "    tree = {'eta_g': np.ones(groups.shape[1]), \n",
    "            'groups': np.zeros((groups.shape[1], groups.shape[1])), \n",
    "            'groups_vars': groups}\n",
    "\n",
    "    err = [] \n",
    "    for i in range(1, max_iter):\n",
    "        mu_k = mu_0 * i  # mu_i crece de forma lineal\n",
    "\n",
    "        print(\"Iteracion {}\".format(i))\n",
    "        # Resolver L_{k+1} = argmin_L L(L, S_k, Y_k, mu_k)\n",
    "        tmp = D - S_k + (1 / mu_k) * Y_k\n",
    "        #print('Converting to sparse')\n",
    "        #tmp = scipy.sparse.csc_matrix(tmp)\n",
    "        \n",
    "        print(\"Starting SVD\")\n",
    "        U, S, V = np.linalg.svd(D - S_k + (1 / mu_k) * Y_k, full_matrices=False)\n",
    "        print(\"Applying Soft-threshold\")\n",
    "        S_shrink = soft_threshold(S, (1 / mu_k))\n",
    "        L_k = np.dot(U * S_shrink, V)\n",
    "\n",
    "        # Resolver S_{k+1} = argmin_S L(L_k, S, Y_k, mu_k)\n",
    "        G_S = D - L_k + (1 / mu_k) * Y_k\n",
    "        \n",
    "        S_k = spams.proximalTree(G_S, tree)\n",
    "        \n",
    "        print(\"Updating Y_k\")\n",
    "        # Paso en valor del dual\n",
    "        Y_k += mu_k * (D - L_k - S_k)\n",
    "        print(augmented_lagrangian(L=L_k, S=S_k, lamb=lamb, mu=mu_k, Y=Y_k, D=D))\n",
    "\n",
    "        err.append(np.linalg.norm(D - L_k - S_k, ord='fro') / np.linalg.norm(D, ord='fro'))\n",
    "        if err[-1] < 1e-10:\n",
    "            print('Method converged in iteration {}'.format(i))\n",
    "            break\n",
    "\n",
    "\n",
    "    L = L_k.copy()\n",
    "    S = S_k.copy()\n",
    "    \n",
    "    return L, S, err"
   ]
  },
  {
   "cell_type": "code",
   "execution_count": 44,
   "metadata": {},
   "outputs": [],
   "source": [
    "D = load_video('test.avi')"
   ]
  },
  {
   "cell_type": "code",
   "execution_count": 45,
   "metadata": {},
   "outputs": [
    {
     "data": {
      "text/plain": [
       "43795652.0"
      ]
     },
     "execution_count": 45,
     "metadata": {},
     "output_type": "execute_result"
    }
   ],
   "source": [
    "Omega(D)"
   ]
  },
  {
   "cell_type": "code",
   "execution_count": 32,
   "metadata": {},
   "outputs": [
    {
     "data": {
      "text/plain": [
       "array([[ 0,  1,  2,  3,  4],\n",
       "       [ 5,  6,  7,  8,  9],\n",
       "       [10, 11, 12, 13, 14],\n",
       "       [15, 16, 17, 18, 19]])"
      ]
     },
     "execution_count": 32,
     "metadata": {},
     "output_type": "execute_result"
    }
   ],
   "source": [
    "video_size = (4,5)\n",
    "A = np.arange(np.prod(video_size)).reshape(video_size)\n",
    "A"
   ]
  },
  {
   "cell_type": "code",
   "execution_count": 33,
   "metadata": {},
   "outputs": [
    {
     "data": {
      "text/plain": [
       "array([[ 1.,  0.,  0.,  0.,  0.,  0.],\n",
       "       [ 1.,  1.,  0.,  0.,  0.,  0.],\n",
       "       [ 1.,  1.,  1.,  0.,  0.,  0.],\n",
       "       [ 0.,  1.,  1.,  0.,  0.,  0.],\n",
       "       [ 0.,  0.,  1.,  0.,  0.,  0.],\n",
       "       [ 1.,  0.,  0.,  1.,  0.,  0.],\n",
       "       [ 1.,  1.,  0.,  1.,  1.,  0.],\n",
       "       [ 1.,  1.,  1.,  1.,  1.,  1.],\n",
       "       [ 0.,  1.,  1.,  0.,  1.,  1.],\n",
       "       [ 0.,  0.,  1.,  0.,  0.,  1.],\n",
       "       [ 1.,  0.,  0.,  1.,  0.,  0.],\n",
       "       [ 1.,  1.,  0.,  1.,  1.,  0.],\n",
       "       [ 1.,  1.,  1.,  1.,  1.,  1.],\n",
       "       [ 0.,  1.,  1.,  0.,  1.,  1.],\n",
       "       [ 0.,  0.,  1.,  0.,  0.,  1.],\n",
       "       [ 0.,  0.,  0.,  1.,  0.,  0.],\n",
       "       [ 0.,  0.,  0.,  1.,  1.,  0.],\n",
       "       [ 0.,  0.,  0.,  1.,  1.,  1.],\n",
       "       [ 0.,  0.,  0.,  0.,  1.,  1.],\n",
       "       [ 0.,  0.,  0.,  0.,  0.,  1.]])"
      ]
     },
     "execution_count": 33,
     "metadata": {},
     "output_type": "execute_result"
    }
   ],
   "source": [
    "groups = get_groups(video_size)\n",
    "groups"
   ]
  },
  {
   "cell_type": "code",
   "execution_count": null,
   "metadata": {},
   "outputs": [],
   "source": []
  },
  {
   "cell_type": "code",
   "execution_count": 34,
   "metadata": {},
   "outputs": [
    {
     "data": {
      "text/plain": [
       "array([ 1.,  1.,  1.,  1.])"
      ]
     },
     "execution_count": 34,
     "metadata": {},
     "output_type": "execute_result"
    }
   ],
   "source": []
  },
  {
   "cell_type": "code",
   "execution_count": null,
   "metadata": {},
   "outputs": [],
   "source": []
  },
  {
   "cell_type": "code",
   "execution_count": null,
   "metadata": {},
   "outputs": [],
   "source": []
  },
  {
   "cell_type": "code",
   "execution_count": null,
   "metadata": {},
   "outputs": [],
   "source": []
  }
 ],
 "metadata": {
  "kernelspec": {
   "display_name": "Python 3",
   "language": "python",
   "name": "python3"
  },
  "language_info": {
   "codemirror_mode": {
    "name": "ipython",
    "version": 3
   },
   "file_extension": ".py",
   "mimetype": "text/x-python",
   "name": "python",
   "nbconvert_exporter": "python",
   "pygments_lexer": "ipython3",
   "version": "3.6.3"
  }
 },
 "nbformat": 4,
 "nbformat_minor": 2
}
